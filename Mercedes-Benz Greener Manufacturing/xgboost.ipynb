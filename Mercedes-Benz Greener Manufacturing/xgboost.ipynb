{
 "cells": [
  {
   "cell_type": "code",
   "execution_count": 1,
   "metadata": {
    "_cell_guid": "b1076dfc-b9ad-4769-8c92-a6c4dae69d19",
    "_uuid": "8f2839f25d086af736a60e9eeb907d3b93b6e0e5"
   },
   "outputs": [
    {
     "name": "stdout",
     "output_type": "stream",
     "text": [
      "Train shape :  (4209, 378)\n",
      "Test shape :  (4209, 377)\n"
     ]
    }
   ],
   "source": [
    "import numpy as np # linear algebra\n",
    "import pandas as pd # data processing, CSV file I/O (e.g. pd.read_csv)\n",
    "import xgboost as xgb\n",
    "df_train = pd.read_csv(\"../input/train.csv\")\n",
    "df_test = pd.read_csv(\"../input/test.csv\")\n",
    "print(\"Train shape : \", df_train.shape)\n",
    "print(\"Test shape : \", df_test.shape)\n",
    "cata_cols = ['X0', 'X1', 'X2', 'X3', 'X4', 'X5', 'X6', 'X8']"
   ]
  },
  {
   "cell_type": "code",
   "execution_count": 2,
   "metadata": {
    "_cell_guid": "79c7e3d0-c299-4dcb-8224-4455121ee9b0",
    "_uuid": "d629ff2d2480ee46fbb7e2d37f6b5fab8052498a"
   },
   "outputs": [],
   "source": [
    "alldata = pd.concat([df_train, df_test], sort=False)\n",
    "from sklearn.preprocessing import LabelEncoder\n",
    "le = LabelEncoder()\n",
    "alldata[cata_cols] = alldata[cata_cols].apply(le.fit_transform)\n",
    "df_train = alldata.iloc[:len(df_train), :]\n",
    "df_test = alldata.iloc[len(df_train):, :]\n",
    "\n",
    "y = df_train['y']\n",
    "X = df_train.drop(['y'], axis=1)\n",
    "X_test = df_test.drop(['y'], axis=1)"
   ]
  },
  {
   "cell_type": "code",
   "execution_count": 3,
   "metadata": {
    "_uuid": "88f52d01d10a56220310048e63ee912ce1e7e027"
   },
   "outputs": [],
   "source": [
    "from sklearn.model_selection import KFold\n",
    "from sklearn.metrics import r2_score"
   ]
  },
  {
   "cell_type": "code",
   "execution_count": 4,
   "metadata": {
    "_uuid": "3beb38f3458eacba3c0313c920e349d87846bb41"
   },
   "outputs": [],
   "source": [
    "kf = KFold(n_splits=5, shuffle=True, random_state=41)\n",
    "models = []\n",
    "best_iter = 0\n",
    "_y_predict = np.zeros(X.shape[0])"
   ]
  },
  {
   "cell_type": "code",
   "execution_count": 5,
   "metadata": {
    "_uuid": "480b455b983df4891e865a75bcdabdf4877cdc99"
   },
   "outputs": [],
   "source": [
    "for train_index, valid_index in kf.split(X):\n",
    "    X_train, X_valid = X.iloc[train_index, :], X.iloc[valid_index, :]\n",
    "    y_train, y_valid = y.values[train_index], y.values[valid_index]\n",
    "    model = xgb.XGBRegressor(learning_rate=0.01, max_depth=3, colsample_bytree=0.45, n_estimators=10000, seed=1,)\n",
    "    model.fit(X_train, y_train,  early_stopping_rounds=75, verbose=False, eval_set=[(X_train, y_train), (X_valid, y_valid)], eval_metric=\"rmse\")\n",
    "    best_iter += model.best_iteration\n",
    "    _y_predict[valid_index] = model.predict(X_valid)\n",
    "    #models.append(model)"
   ]
  },
  {
   "cell_type": "code",
   "execution_count": 6,
   "metadata": {
    "_uuid": "ec44110981ab23b686952e3e46a2ddc5acfd0ede"
   },
   "outputs": [
    {
     "data": {
      "text/plain": [
       "3481"
      ]
     },
     "execution_count": 6,
     "metadata": {},
     "output_type": "execute_result"
    }
   ],
   "source": [
    "best_iter"
   ]
  },
  {
   "cell_type": "code",
   "execution_count": 7,
   "metadata": {
    "_uuid": "165ec4030545922b36fbc3c1b9ec7b5baedb2113"
   },
   "outputs": [
    {
     "data": {
      "text/plain": [
       "array([100.48852539, 102.81568146,  88.02734375, ..., 110.09768677,\n",
       "        93.51220703,  92.59830475])"
      ]
     },
     "execution_count": 7,
     "metadata": {},
     "output_type": "execute_result"
    }
   ],
   "source": [
    "_y_predict"
   ]
  },
  {
   "cell_type": "code",
   "execution_count": 8,
   "metadata": {
    "_uuid": "0336abde6fc6a7491d95ebf574f23fdf7875f7cf"
   },
   "outputs": [],
   "source": [
    "best_iter //= 5\n",
    "model = xgb.XGBRegressor(learning_rate=0.01, max_depth=3, colsample_bytree=0.45, n_estimators=best_iter,seed=1,)\n",
    "model.fit(X, y)\n",
    "\n",
    "#r2 = r2_score(y, model.predict(xgb.DMatrix(X)))\n",
    "#print('R2-train = %.4f' % r2)\n",
    "\n",
    "_y_test = model.predict(X_test)\n",
    "submit = pd.DataFrame({'ID': df_test['ID'], 'y': _y_test})\n",
    "submit.to_csv('benz-xgb.csv', index=False)"
   ]
  },
  {
   "cell_type": "code",
   "execution_count": 9,
   "metadata": {
    "_uuid": "0ebb04db2c916286100efac43491e7e779821a14"
   },
   "outputs": [],
   "source": []
  }
 ],
 "metadata": {
  "kernelspec": {
   "display_name": "Python 3",
   "language": "python",
   "name": "python3"
  },
  "language_info": {
   "codemirror_mode": {
    "name": "ipython",
    "version": 3
   },
   "file_extension": ".py",
   "mimetype": "text/x-python",
   "name": "python",
   "nbconvert_exporter": "python",
   "pygments_lexer": "ipython3",
   "version": "3.6.6"
  }
 },
 "nbformat": 4,
 "nbformat_minor": 1
}
