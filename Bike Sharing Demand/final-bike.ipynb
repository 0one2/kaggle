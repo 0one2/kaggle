{
 "cells": [
  {
   "cell_type": "code",
   "execution_count": 1,
   "metadata": {
    "_cell_guid": "b1076dfc-b9ad-4769-8c92-a6c4dae69d19",
    "_uuid": "8f2839f25d086af736a60e9eeb907d3b93b6e0e5"
   },
   "outputs": [
    {
     "name": "stdout",
     "output_type": "stream",
     "text": [
      "['xgxgxg', 'bike-sharing-demand', 'commit']\n"
     ]
    }
   ],
   "source": [
    "# This Python 3 environment comes with many helpful analytics libraries installed\n",
    "# It is defined by the kaggle/python docker image: https://github.com/kaggle/docker-python\n",
    "# For example, here's several helpful packages to load in \n",
    "\n",
    "import numpy as np # linear algebra\n",
    "import pandas as pd # data processing, CSV file I/O (e.g. pd.read_csv)\n",
    "\n",
    "# Input data files are available in the \"../input/\" directory.\n",
    "# For example, running this (by clicking run or pressing Shift+Enter) will list the files in the input directory\n",
    "\n",
    "import os\n",
    "print(os.listdir(\"../input\"))\n",
    "\n",
    "# Any results you write to the current directory are saved as output."
   ]
  },
  {
   "cell_type": "code",
   "execution_count": 2,
   "metadata": {
    "_cell_guid": "79c7e3d0-c299-4dcb-8224-4455121ee9b0",
    "_uuid": "d629ff2d2480ee46fbb7e2d37f6b5fab8052498a"
   },
   "outputs": [],
   "source": [
    "base1 = pd.read_csv(\"../input/xgxgxg/script.csv\")\n",
    "base2 = pd.read_csv(\"../input/commit/lgbm_casual_registered.csv\")"
   ]
  },
  {
   "cell_type": "code",
   "execution_count": 3,
   "metadata": {
    "_uuid": "ccc97901cb1bcc3edbc8c1eab7ad153b8f9a9e3b"
   },
   "outputs": [],
   "source": [
    "base1[\"count\"] = base1[\"count\"]*0.52 + base2[\"count\"]*0.48"
   ]
  },
  {
   "cell_type": "code",
   "execution_count": 4,
   "metadata": {
    "_uuid": "8f9f20d2e79b324f79b480d99c1d6d3550f49c87"
   },
   "outputs": [],
   "source": [
    "#크리스마스 이브\n",
    "base1.iloc[6308:6330, 1]= base1.iloc[6308:6330, 1]*0.5\n",
    "base1.iloc[3041:3063, 1]= base1.iloc[3041:3063, 1]*0.5\n",
    "#크리스마스\n",
    "base1.iloc[6332:6354, 1]= base1.iloc[6332:6354, 1]*0.5\n",
    "base1.iloc[3065:3087, 1]= base1.iloc[3065:3087, 1]*0.5\n",
    "#추수감사절\n",
    "base1.iloc[6262:6284, 1]= base1.iloc[6262:6284, 1]*0.5\n",
    "base1.iloc[2730:2752, 1]= base1.iloc[2730:2752, 1]*0.5"
   ]
  },
  {
   "cell_type": "code",
   "execution_count": 5,
   "metadata": {
    "_uuid": "2e583be445d3dd3a1106c0e493753bb703b7155a"
   },
   "outputs": [],
   "source": [
    "base1.to_csv(\"base52.csv\", index=False)"
   ]
  },
  {
   "cell_type": "code",
   "execution_count": 6,
   "metadata": {
    "_uuid": "624b2f023bdeb2afbc18d8252814ab55dd23cc9c"
   },
   "outputs": [],
   "source": []
  }
 ],
 "metadata": {
  "kernelspec": {
   "display_name": "Python 3",
   "language": "python",
   "name": "python3"
  },
  "language_info": {
   "codemirror_mode": {
    "name": "ipython",
    "version": 3
   },
   "file_extension": ".py",
   "mimetype": "text/x-python",
   "name": "python",
   "nbconvert_exporter": "python",
   "pygments_lexer": "ipython3",
   "version": "3.6.6"
  }
 },
 "nbformat": 4,
 "nbformat_minor": 1
}
