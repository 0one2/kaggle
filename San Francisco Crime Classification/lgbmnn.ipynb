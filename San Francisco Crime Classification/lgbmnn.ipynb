{
 "cells": [
  {
   "cell_type": "code",
   "execution_count": 1,
   "metadata": {
    "_cell_guid": "b1076dfc-b9ad-4769-8c92-a6c4dae69d19",
    "_uuid": "8f2839f25d086af736a60e9eeb907d3b93b6e0e5"
   },
   "outputs": [],
   "source": [
    "import pandas as pd\n",
    "import numpy as np\n",
    "from sklearn.preprocessing import LabelEncoder, StandardScaler \n",
    "import os\n",
    "import re"
   ]
  },
  {
   "cell_type": "code",
   "execution_count": 2,
   "metadata": {
    "_cell_guid": "79c7e3d0-c299-4dcb-8224-4455121ee9b0",
    "_uuid": "d629ff2d2480ee46fbb7e2d37f6b5fab8052498a"
   },
   "outputs": [],
   "source": [
    "train = pd.read_csv('../input/train.csv', parse_dates=['Dates'])\n",
    "test = pd.read_csv('../input/test.csv', parse_dates=['Dates'], index_col='Id')"
   ]
  },
  {
   "cell_type": "code",
   "execution_count": 3,
   "metadata": {
    "_uuid": "4286845a91210066bd6b4bc6d75fa1975cec1e2e"
   },
   "outputs": [],
   "source": [
    "test_ids = test.index"
   ]
  },
  {
   "cell_type": "code",
   "execution_count": 4,
   "metadata": {
    "_uuid": "a89b8361157c5f17e44d065b3c6b2b1b09003679"
   },
   "outputs": [],
   "source": [
    "def feature_engineering(data):\n",
    "    data['Date'] = pd.to_datetime(data['Dates'].dt.date)\n",
    "    data['n_days'] = (data['Date'] - data['Date'].min()).apply(lambda x: x.days)\n",
    "    data['Day'] = data['Dates'].dt.day\n",
    "    data['DayOfWeek'] = data['Dates'].dt.weekday\n",
    "    data['Month'] = data['Dates'].dt.month\n",
    "    data['Year'] = data['Dates'].dt.year\n",
    "    data['Hour'] = data['Dates'].dt.hour\n",
    "    data['Minute'] = data['Dates'].dt.minute\n",
    "    data['Block'] = data['Address'].str.contains('block', case=False)\n",
    "    data[\"XY\"] = data[\"X\"] - data[\"Y\"]\n",
    "    data.drop(columns=['Dates','Date','Address'], inplace=True)\n",
    "    \n",
    "    return data"
   ]
  },
  {
   "cell_type": "code",
   "execution_count": 5,
   "metadata": {
    "_uuid": "ee09438df59d32aa40328eed43ffbf5d708a9a91"
   },
   "outputs": [],
   "source": [
    "train = feature_engineering(train) \n",
    "test = feature_engineering(test)"
   ]
  },
  {
   "cell_type": "code",
   "execution_count": 6,
   "metadata": {
    "_uuid": "60388b566f0a1dc35459560d8c5225bed6ea3cf9"
   },
   "outputs": [],
   "source": [
    "y_dummies = pd.get_dummies(train.Category).values"
   ]
  },
  {
   "cell_type": "code",
   "execution_count": 7,
   "metadata": {
    "_uuid": "542576cd4aa6d7103b4b2726082df968e053b01f"
   },
   "outputs": [
    {
     "data": {
      "text/plain": [
       "array([[0, 0, 0, ..., 0, 1, 0],\n",
       "       [0, 0, 0, ..., 0, 0, 0],\n",
       "       [0, 0, 0, ..., 0, 0, 0],\n",
       "       ...,\n",
       "       [0, 0, 0, ..., 0, 0, 0],\n",
       "       [0, 0, 0, ..., 0, 0, 0],\n",
       "       [0, 0, 0, ..., 0, 0, 0]], dtype=uint8)"
      ]
     },
     "execution_count": 7,
     "metadata": {},
     "output_type": "execute_result"
    }
   ],
   "source": [
    "y_dummies"
   ]
  },
  {
   "cell_type": "code",
   "execution_count": 8,
   "metadata": {
    "_uuid": "a5d752ff5dea4d373e7924d6f26514f1701408b4"
   },
   "outputs": [],
   "source": [
    "le2 = LabelEncoder()\n",
    "y= le2.fit_transform(train['Category'])\n",
    "\n",
    "train.drop(columns=['Descript','Resolution', \"Category\"], inplace=True)"
   ]
  },
  {
   "cell_type": "code",
   "execution_count": 9,
   "metadata": {
    "_uuid": "5960ff67d1a8dd21d53e67fc1e8478473ea3570d"
   },
   "outputs": [],
   "source": [
    "le1 = LabelEncoder()\n",
    "train['PdDistrict'] = le1.fit_transform(train['PdDistrict'])\n",
    "test['PdDistrict'] = le1.transform(test['PdDistrict'])\n",
    "\n",
    "train.Block = train.Block.apply(lambda x:1 if x == True else 0)\n",
    "test.Block = test.Block.apply(lambda x:1 if x == True else 0)"
   ]
  },
  {
   "cell_type": "code",
   "execution_count": 10,
   "metadata": {
    "_uuid": "8cb3adb4ad879def9d0bcc294e39a39af5306409",
    "scrolled": false
   },
   "outputs": [
    {
     "data": {
      "text/html": [
       "<div>\n",
       "<style scoped>\n",
       "    .dataframe tbody tr th:only-of-type {\n",
       "        vertical-align: middle;\n",
       "    }\n",
       "\n",
       "    .dataframe tbody tr th {\n",
       "        vertical-align: top;\n",
       "    }\n",
       "\n",
       "    .dataframe thead th {\n",
       "        text-align: right;\n",
       "    }\n",
       "</style>\n",
       "<table border=\"1\" class=\"dataframe\">\n",
       "  <thead>\n",
       "    <tr style=\"text-align: right;\">\n",
       "      <th></th>\n",
       "      <th>DayOfWeek</th>\n",
       "      <th>PdDistrict</th>\n",
       "      <th>X</th>\n",
       "      <th>Y</th>\n",
       "      <th>n_days</th>\n",
       "      <th>Day</th>\n",
       "      <th>Month</th>\n",
       "      <th>Year</th>\n",
       "      <th>Hour</th>\n",
       "      <th>Minute</th>\n",
       "      <th>Block</th>\n",
       "      <th>XY</th>\n",
       "    </tr>\n",
       "  </thead>\n",
       "  <tbody>\n",
       "    <tr>\n",
       "      <th>0</th>\n",
       "      <td>2</td>\n",
       "      <td>4</td>\n",
       "      <td>-122.425892</td>\n",
       "      <td>37.774599</td>\n",
       "      <td>4510</td>\n",
       "      <td>13</td>\n",
       "      <td>5</td>\n",
       "      <td>2015</td>\n",
       "      <td>23</td>\n",
       "      <td>53</td>\n",
       "      <td>0</td>\n",
       "      <td>-160.200490</td>\n",
       "    </tr>\n",
       "    <tr>\n",
       "      <th>1</th>\n",
       "      <td>2</td>\n",
       "      <td>4</td>\n",
       "      <td>-122.425892</td>\n",
       "      <td>37.774599</td>\n",
       "      <td>4510</td>\n",
       "      <td>13</td>\n",
       "      <td>5</td>\n",
       "      <td>2015</td>\n",
       "      <td>23</td>\n",
       "      <td>53</td>\n",
       "      <td>0</td>\n",
       "      <td>-160.200490</td>\n",
       "    </tr>\n",
       "    <tr>\n",
       "      <th>2</th>\n",
       "      <td>2</td>\n",
       "      <td>4</td>\n",
       "      <td>-122.424363</td>\n",
       "      <td>37.800414</td>\n",
       "      <td>4510</td>\n",
       "      <td>13</td>\n",
       "      <td>5</td>\n",
       "      <td>2015</td>\n",
       "      <td>23</td>\n",
       "      <td>33</td>\n",
       "      <td>0</td>\n",
       "      <td>-160.224777</td>\n",
       "    </tr>\n",
       "    <tr>\n",
       "      <th>3</th>\n",
       "      <td>2</td>\n",
       "      <td>4</td>\n",
       "      <td>-122.426995</td>\n",
       "      <td>37.800873</td>\n",
       "      <td>4510</td>\n",
       "      <td>13</td>\n",
       "      <td>5</td>\n",
       "      <td>2015</td>\n",
       "      <td>23</td>\n",
       "      <td>30</td>\n",
       "      <td>1</td>\n",
       "      <td>-160.227868</td>\n",
       "    </tr>\n",
       "    <tr>\n",
       "      <th>4</th>\n",
       "      <td>2</td>\n",
       "      <td>5</td>\n",
       "      <td>-122.438738</td>\n",
       "      <td>37.771541</td>\n",
       "      <td>4510</td>\n",
       "      <td>13</td>\n",
       "      <td>5</td>\n",
       "      <td>2015</td>\n",
       "      <td>23</td>\n",
       "      <td>30</td>\n",
       "      <td>1</td>\n",
       "      <td>-160.210279</td>\n",
       "    </tr>\n",
       "  </tbody>\n",
       "</table>\n",
       "</div>"
      ],
      "text/plain": [
       "   DayOfWeek  PdDistrict           X     ...      Minute  Block          XY\n",
       "0          2           4 -122.425892     ...          53      0 -160.200490\n",
       "1          2           4 -122.425892     ...          53      0 -160.200490\n",
       "2          2           4 -122.424363     ...          33      0 -160.224777\n",
       "3          2           4 -122.426995     ...          30      1 -160.227868\n",
       "4          2           5 -122.438738     ...          30      1 -160.210279\n",
       "\n",
       "[5 rows x 12 columns]"
      ]
     },
     "execution_count": 10,
     "metadata": {},
     "output_type": "execute_result"
    }
   ],
   "source": [
    "train.head()"
   ]
  },
  {
   "cell_type": "code",
   "execution_count": 11,
   "metadata": {
    "_uuid": "b5e3d96def5d51e5b228a3cf8962fd3db5225e4c",
    "scrolled": true
   },
   "outputs": [
    {
     "name": "stderr",
     "output_type": "stream",
     "text": [
      "/opt/conda/lib/python3.6/site-packages/sklearn/preprocessing/data.py:625: DataConversionWarning: Data with input dtype int64, float64 were all converted to float64 by StandardScaler.\n",
      "  return self.partial_fit(X, y)\n",
      "/opt/conda/lib/python3.6/site-packages/sklearn/base.py:462: DataConversionWarning: Data with input dtype int64, float64 were all converted to float64 by StandardScaler.\n",
      "  return self.fit(X, **fit_params).transform(X)\n",
      "/opt/conda/lib/python3.6/site-packages/sklearn/preprocessing/data.py:625: DataConversionWarning: Data with input dtype int64, float64 were all converted to float64 by StandardScaler.\n",
      "  return self.partial_fit(X, y)\n",
      "/opt/conda/lib/python3.6/site-packages/sklearn/base.py:462: DataConversionWarning: Data with input dtype int64, float64 were all converted to float64 by StandardScaler.\n",
      "  return self.fit(X, **fit_params).transform(X)\n"
     ]
    }
   ],
   "source": [
    "sc = StandardScaler()\n",
    "train = sc.fit_transform(train)\n",
    "test = sc.fit_transform(test)"
   ]
  },
  {
   "cell_type": "code",
   "execution_count": 12,
   "metadata": {
    "_uuid": "5ebe9ee579921eff13081b512f6b527da2faac6e"
   },
   "outputs": [
    {
     "name": "stderr",
     "output_type": "stream",
     "text": [
      "Using TensorFlow backend.\n"
     ]
    }
   ],
   "source": [
    "from keras import Sequential\n",
    "from keras.layers import Dense, Dropout"
   ]
  },
  {
   "cell_type": "code",
   "execution_count": 13,
   "metadata": {
    "_uuid": "43d08dbcd26d38b575a5c6825fafd1b46c5a5267"
   },
   "outputs": [],
   "source": [
    "model = Sequential()"
   ]
  },
  {
   "cell_type": "code",
   "execution_count": 14,
   "metadata": {
    "_uuid": "2606d23ea214607f4fec33c61a38aee21fa83b73"
   },
   "outputs": [],
   "source": [
    "model.add(Dense(1536, input_dim=train.shape[1], activation = \"relu\"))"
   ]
  },
  {
   "cell_type": "code",
   "execution_count": 15,
   "metadata": {
    "_uuid": "75f6bfbed234dc8f075bf4a6f02e587a1b8c6b28"
   },
   "outputs": [],
   "source": [
    "model.add(Dropout(0.5))"
   ]
  },
  {
   "cell_type": "code",
   "execution_count": 16,
   "metadata": {
    "_uuid": "82d0cff7141287084cf065a37f3acf13c149645f"
   },
   "outputs": [],
   "source": [
    "model.add(Dense(1280, activation = \"relu\"))\n",
    "model.add(Dropout(0.5))"
   ]
  },
  {
   "cell_type": "code",
   "execution_count": 17,
   "metadata": {
    "_uuid": "ec640bce116082887cca29961e7203807f40c48b"
   },
   "outputs": [],
   "source": [
    "model.add(Dense(39, activation = \"softmax\"))"
   ]
  },
  {
   "cell_type": "code",
   "execution_count": 18,
   "metadata": {
    "_uuid": "bbad99f8f416e870137970659eafcc7f5cb8de86"
   },
   "outputs": [],
   "source": [
    "model.compile(loss=\"categorical_crossentropy\", optimizer=\"adam\", metrics=[\"accuracy\"])"
   ]
  },
  {
   "cell_type": "code",
   "execution_count": 19,
   "metadata": {
    "_uuid": "a658250cbe05fb661e4543ad7afe8281448b3349"
   },
   "outputs": [
    {
     "name": "stdout",
     "output_type": "stream",
     "text": [
      "Epoch 1/120\n",
      "878049/878049 [==============================] - 10s 11us/step - loss: 2.5704 - acc: 0.2305\n",
      "Epoch 2/120\n",
      "878049/878049 [==============================] - 8s 9us/step - loss: 2.4874 - acc: 0.2506\n",
      "Epoch 3/120\n",
      "878049/878049 [==============================] - 8s 9us/step - loss: 2.4636 - acc: 0.2558\n",
      "Epoch 4/120\n",
      "878049/878049 [==============================] - 8s 9us/step - loss: 2.4497 - acc: 0.2594\n",
      "Epoch 5/120\n",
      "878049/878049 [==============================] - 8s 9us/step - loss: 2.4389 - acc: 0.2624\n",
      "Epoch 6/120\n",
      "878049/878049 [==============================] - 8s 9us/step - loss: 2.4283 - acc: 0.2653\n",
      "Epoch 7/120\n",
      "878049/878049 [==============================] - 8s 9us/step - loss: 2.4195 - acc: 0.2678\n",
      "Epoch 8/120\n",
      "878049/878049 [==============================] - 8s 9us/step - loss: 2.4127 - acc: 0.2697\n",
      "Epoch 9/120\n",
      "878049/878049 [==============================] - 8s 9us/step - loss: 2.4070 - acc: 0.2714\n",
      "Epoch 10/120\n",
      "878049/878049 [==============================] - 8s 9us/step - loss: 2.4025 - acc: 0.2723\n",
      "Epoch 11/120\n",
      "878049/878049 [==============================] - 8s 9us/step - loss: 2.3987 - acc: 0.2734\n",
      "Epoch 12/120\n",
      "878049/878049 [==============================] - 8s 9us/step - loss: 2.3943 - acc: 0.2743\n",
      "Epoch 13/120\n",
      "878049/878049 [==============================] - 8s 10us/step - loss: 2.3914 - acc: 0.2759\n",
      "Epoch 14/120\n",
      "878049/878049 [==============================] - 8s 9us/step - loss: 2.3881 - acc: 0.2763\n",
      "Epoch 15/120\n",
      "878049/878049 [==============================] - 8s 9us/step - loss: 2.3848 - acc: 0.2771\n",
      "Epoch 16/120\n",
      "878049/878049 [==============================] - 8s 9us/step - loss: 2.3824 - acc: 0.2777\n",
      "Epoch 17/120\n",
      "878049/878049 [==============================] - 8s 9us/step - loss: 2.3795 - acc: 0.2787\n",
      "Epoch 18/120\n",
      "878049/878049 [==============================] - 8s 10us/step - loss: 2.3776 - acc: 0.2793\n",
      "Epoch 19/120\n",
      "878049/878049 [==============================] - 8s 9us/step - loss: 2.3760 - acc: 0.2797\n",
      "Epoch 20/120\n",
      "878049/878049 [==============================] - 8s 9us/step - loss: 2.3732 - acc: 0.2805\n",
      "Epoch 21/120\n",
      "878049/878049 [==============================] - 8s 9us/step - loss: 2.3713 - acc: 0.2807\n",
      "Epoch 22/120\n",
      "878049/878049 [==============================] - 8s 9us/step - loss: 2.3689 - acc: 0.2817\n",
      "Epoch 23/120\n",
      "878049/878049 [==============================] - 8s 9us/step - loss: 2.3678 - acc: 0.2817\n",
      "Epoch 24/120\n",
      "878049/878049 [==============================] - 8s 9us/step - loss: 2.3662 - acc: 0.2822\n",
      "Epoch 25/120\n",
      "878049/878049 [==============================] - 8s 9us/step - loss: 2.3646 - acc: 0.2827\n",
      "Epoch 26/120\n",
      "878049/878049 [==============================] - 8s 9us/step - loss: 2.3633 - acc: 0.2827\n",
      "Epoch 27/120\n",
      "878049/878049 [==============================] - 8s 9us/step - loss: 2.3621 - acc: 0.2833\n",
      "Epoch 28/120\n",
      "878049/878049 [==============================] - 8s 9us/step - loss: 2.3604 - acc: 0.2837\n",
      "Epoch 29/120\n",
      "878049/878049 [==============================] - 8s 9us/step - loss: 2.3589 - acc: 0.2843\n",
      "Epoch 30/120\n",
      "878049/878049 [==============================] - 8s 9us/step - loss: 2.3582 - acc: 0.2841\n",
      "Epoch 31/120\n",
      "878049/878049 [==============================] - 8s 9us/step - loss: 2.3569 - acc: 0.2846\n",
      "Epoch 32/120\n",
      "878049/878049 [==============================] - 8s 9us/step - loss: 2.3561 - acc: 0.2841\n",
      "Epoch 33/120\n",
      "878049/878049 [==============================] - 8s 9us/step - loss: 2.3544 - acc: 0.2851\n",
      "Epoch 34/120\n",
      "878049/878049 [==============================] - 8s 9us/step - loss: 2.3539 - acc: 0.2848\n",
      "Epoch 35/120\n",
      "878049/878049 [==============================] - 8s 9us/step - loss: 2.3524 - acc: 0.2853\n",
      "Epoch 36/120\n",
      "878049/878049 [==============================] - 8s 9us/step - loss: 2.3512 - acc: 0.2853\n",
      "Epoch 37/120\n",
      "878049/878049 [==============================] - 8s 9us/step - loss: 2.3506 - acc: 0.2857\n",
      "Epoch 38/120\n",
      "878049/878049 [==============================] - 8s 9us/step - loss: 2.3498 - acc: 0.2859\n",
      "Epoch 39/120\n",
      "878049/878049 [==============================] - 8s 9us/step - loss: 2.3486 - acc: 0.2866\n",
      "Epoch 40/120\n",
      "878049/878049 [==============================] - 8s 9us/step - loss: 2.3482 - acc: 0.2863\n",
      "Epoch 41/120\n",
      "878049/878049 [==============================] - 8s 9us/step - loss: 2.3471 - acc: 0.2865\n",
      "Epoch 42/120\n",
      "878049/878049 [==============================] - 8s 9us/step - loss: 2.3462 - acc: 0.2866\n",
      "Epoch 43/120\n",
      "878049/878049 [==============================] - 8s 9us/step - loss: 2.3444 - acc: 0.2875\n",
      "Epoch 44/120\n",
      "878049/878049 [==============================] - 8s 9us/step - loss: 2.3441 - acc: 0.2872\n",
      "Epoch 45/120\n",
      "878049/878049 [==============================] - 8s 9us/step - loss: 2.3435 - acc: 0.2871\n",
      "Epoch 46/120\n",
      "878049/878049 [==============================] - 8s 9us/step - loss: 2.3429 - acc: 0.2876\n",
      "Epoch 47/120\n",
      "878049/878049 [==============================] - 8s 9us/step - loss: 2.3423 - acc: 0.2875\n",
      "Epoch 48/120\n",
      "878049/878049 [==============================] - 8s 9us/step - loss: 2.3418 - acc: 0.2875\n",
      "Epoch 49/120\n",
      "878049/878049 [==============================] - 8s 9us/step - loss: 2.3415 - acc: 0.2874\n",
      "Epoch 50/120\n",
      "878049/878049 [==============================] - 8s 9us/step - loss: 2.3410 - acc: 0.2876\n",
      "Epoch 51/120\n",
      "878049/878049 [==============================] - 8s 9us/step - loss: 2.3396 - acc: 0.2881\n",
      "Epoch 52/120\n",
      "878049/878049 [==============================] - 8s 9us/step - loss: 2.3392 - acc: 0.2887\n",
      "Epoch 53/120\n",
      "878049/878049 [==============================] - 8s 9us/step - loss: 2.3388 - acc: 0.2889\n",
      "Epoch 54/120\n",
      "878049/878049 [==============================] - 8s 9us/step - loss: 2.3380 - acc: 0.2887\n",
      "Epoch 55/120\n",
      "878049/878049 [==============================] - 8s 10us/step - loss: 2.3369 - acc: 0.2892\n",
      "Epoch 56/120\n",
      "878049/878049 [==============================] - 8s 9us/step - loss: 2.3367 - acc: 0.2888\n",
      "Epoch 57/120\n",
      "878049/878049 [==============================] - 8s 9us/step - loss: 2.3361 - acc: 0.2889\n",
      "Epoch 58/120\n",
      "878049/878049 [==============================] - 8s 9us/step - loss: 2.3358 - acc: 0.2894\n",
      "Epoch 59/120\n",
      "878049/878049 [==============================] - 8s 9us/step - loss: 2.3346 - acc: 0.2893\n",
      "Epoch 60/120\n",
      "372736/878049 [===========>..................] - ETA: 4s - loss: 2.3325 - acc: 0.2892"
     ]
    }
   ],
   "source": [
    "model.fit(train, y_dummies, batch_size=4096, epochs=120, verbose=1)\n",
    "predictions = model.predict(test, batch_size = 8192, verbose=1)\n",
    "submission = pd.DataFrame(predictions, columns=le2.inverse_transform(np.linspace(0, 38, 39, dtype='int16')), index=test_ids)\n",
    "submission.to_csv('NN.csv', index_label='Id') "
   ]
  },
  {
   "cell_type": "code",
   "execution_count": 20,
   "metadata": {
    "_uuid": "f97fee67da2cb7e6e708aa53e106f7abffab538c"
   },
   "outputs": [],
   "source": []
  }
 ],
 "metadata": {
  "kernelspec": {
   "display_name": "Python 3",
   "language": "python",
   "name": "python3"
  },
  "language_info": {
   "codemirror_mode": {
    "name": "ipython",
    "version": 3
   },
   "file_extension": ".py",
   "mimetype": "text/x-python",
   "name": "python",
   "nbconvert_exporter": "python",
   "pygments_lexer": "ipython3",
   "version": "3.6.6"
  }
 },
 "nbformat": 4,
 "nbformat_minor": 1
}
